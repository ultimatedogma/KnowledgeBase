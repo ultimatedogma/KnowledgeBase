{
 "cells": [
  {
   "cell_type": "code",
   "execution_count": 17,
   "metadata": {},
   "outputs": [],
   "source": [
    "from pathlib import Path\n",
    "from typing import List, Union\n",
    "\n",
    "def get_markdown_files_recursive(\n",
    "    path: Union[str, Path]\n",
    ") -> List[Path]:\n",
    "    \"\"\"\n",
    "    Recursively collect all .md files under `path`, ignoring any\n",
    "    file or folder whose name starts with '.' at any level.\n",
    "\n",
    "    Args:\n",
    "        path: root directory (str or Path) to start searching from\n",
    "\n",
    "    Returns:\n",
    "        List of Path objects pointing to all .md files found\n",
    "    \"\"\"\n",
    "    path = Path(path)\n",
    "    md_files: List[Path] = []\n",
    "\n",
    "    for entry in path.iterdir():\n",
    "        # skip hidden files/folders\n",
    "        if entry.name.startswith('.'):\n",
    "            continue\n",
    "\n",
    "        if entry.is_dir():\n",
    "            # recurse into non-hidden directories\n",
    "            md_files.extend(get_markdown_files_recursive(entry))\n",
    "        elif entry.is_file() and entry.suffix.lower() == '.md':\n",
    "            md_files.append(entry)\n",
    "\n",
    "    return md_files\n",
    "\n",
    "\n",
    "def write_content_md(\n",
    "    md_paths: List[Path],\n",
    "    output_filename: str = \"content.md\"\n",
    ") -> None:\n",
    "    \"\"\"\n",
    "    Write a markdown file (output_filename) in base_dir that contains\n",
    "    a bullet list of all md_paths, each rendered as a relative link.\n",
    "\n",
    "    Args:\n",
    "        md_paths: list of Path objects pointing to .md files\n",
    "        output_filename: name of the markdown file to write\n",
    "    \"\"\"\n",
    "    \n",
    "    out_file = output_filename\n",
    "\n",
    "    # sort for predictability\n",
    "    md_paths_sorted = sorted(md_paths)\n",
    "\n",
    "    with open(out_file, \"w\", encoding=\"utf-8\") as f:\n",
    "        f.write(\"# Table of Contents\\n\\n\")\n",
    "        for md in md_paths_sorted:\n",
    "            # compute the path relative to base_dir\n",
    "            rel = md.as_posix()\n",
    "            # use the relative path as both link text and target\n",
    "            f.write(f\"- [{rel}]({rel})\\n\")\n",
    "\n"
   ]
  },
  {
   "cell_type": "code",
   "execution_count": 18,
   "metadata": {},
   "outputs": [],
   "source": [
    "md_files = get_markdown_files_recursive(\"./\")\n",
    "\n",
    "write_content_md(md_files, output_filename=\"content.md\")"
   ]
  },
  {
   "cell_type": "code",
   "execution_count": null,
   "metadata": {},
   "outputs": [],
   "source": []
  }
 ],
 "metadata": {
  "kernelspec": {
   "display_name": "default",
   "language": "python",
   "name": "python3"
  },
  "language_info": {
   "codemirror_mode": {
    "name": "ipython",
    "version": 3
   },
   "file_extension": ".py",
   "mimetype": "text/x-python",
   "name": "python",
   "nbconvert_exporter": "python",
   "pygments_lexer": "ipython3",
   "version": "3.10.13"
  }
 },
 "nbformat": 4,
 "nbformat_minor": 2
}
